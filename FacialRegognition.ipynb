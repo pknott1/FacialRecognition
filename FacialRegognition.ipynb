{
 "cells": [
  {
   "cell_type": "code",
   "execution_count": 1,
   "id": "c6427e12-cc0a-47ed-a6e3-ec1065af0b79",
   "metadata": {},
   "outputs": [],
   "source": [
    "import cv2\n",
    "import numpy as np\n",
    "import pandas as pd\n",
    "from PIL import Image\n",
    "from skimage.feature import local_binary_pattern\n",
    "from sklearn.svm import SVC\n",
    "import os\n",
    "from sklearn.model_selection import train_test_split\n",
    "from sklearn.linear_model import LinearRegression\n",
    "from sklearn.metrics import mean_squared_error\n",
    "from sklearn.metrics import classification_report\n",
    "import matplotlib.pyplot as plt\n",
    "from sklearn.model_selection import GridSearchCV\n",
    "from sklearn.pipeline import make_pipeline\n",
    "from sklearn.svm import SVC\n",
    "from sklearn.preprocessing import StandardScaler\n",
    "from sklearn.metrics import accuracy_score, confusion_matrix\n",
    "import matplotlib.pyplot as plt\n",
    "import seaborn as sns\n",
    "from sklearn.neighbors import KNeighborsClassifier\n",
    "import matplotlib.pyplot as plt\n",
    "import seaborn as sns\n",
    "from sklearn.metrics import confusion_matrix"
   ]
  },
  {
   "cell_type": "code",
   "execution_count": 2,
   "id": "b8e3feae-62cb-47f1-8080-21288751a2e2",
   "metadata": {},
   "outputs": [],
   "source": [
    "database1train = \"CK_dataset/train\"\n",
    "database1test = \"CK_dataset/test\"\n",
    "database2train = \"JAFFE-[70,30]/train\"\n",
    "database2test = \"JAFFE-[70,30]/test\""
   ]
  },
  {
   "cell_type": "code",
   "execution_count": 3,
   "id": "d6120f0f-2b7b-4e0b-a113-066264f1af49",
   "metadata": {},
   "outputs": [],
   "source": [
    "def load_and_detect_faces(folder_path):\n",
    "    images = []\n",
    "    labels = []\n",
    "    for label in os.listdir(folder_path):\n",
    "        label_path = os.path.join(folder_path, label)\n",
    "        if os.path.isdir(label_path):\n",
    "            for img_file in os.listdir(label_path):\n",
    "                img_path = os.path.join(label_path, img_file)\n",
    "                img = cv2.imread(img_path, cv2.IMREAD_GRAYSCALE)\n",
    "                if img is not None:\n",
    "                    faces = face_cascade.detectMultiScale(img, scaleFactor=1.1, minNeighbors=5, minSize=(30, 30))\n",
    "                    for (x, y, w, h) in faces:\n",
    "                        face_region = img[y:y+h, x:x+w]\n",
    "                        images.append(face_region)\n",
    "                        labels.append(label)\n",
    "    return images, labels"
   ]
  },
  {
   "cell_type": "code",
   "execution_count": 4,
   "id": "90dc75bc-71f5-43cc-a507-076979eebd05",
   "metadata": {
    "editable": true,
    "slideshow": {
     "slide_type": ""
    },
    "tags": []
   },
   "outputs": [],
   "source": [
    "train_folder_path = database2train\n",
    "test_folder_path = database2test\n",
    "face_cascade = cv2.CascadeClassifier(\"haarcascade_frontalface_default.xml\")"
   ]
  },
  {
   "cell_type": "code",
   "execution_count": 5,
   "id": "d6415367-3352-43e3-9e3c-d800e7f27a26",
   "metadata": {},
   "outputs": [],
   "source": [
    "radius = 1\n",
    "n_points = 8 * radius\n",
    "def extract_lbp_features(images):\n",
    "    lbp_features = []\n",
    "    for img in images:\n",
    "        img = cv2.resize(img, (64, 64))  # Standardize size\n",
    "        lbp = local_binary_pattern(img, n_points, radius, method=\"uniform\")\n",
    "        (hist, _) = np.histogram(lbp.ravel(), bins=np.arange(0, n_points + 3), range=(0, n_points + 2))\n",
    "        hist = hist.astype(\"float\")\n",
    "        hist /= (hist.sum() + 1e-6)\n",
    "        lbp_features.append(hist)\n",
    "    return np.array(lbp_features)"
   ]
  },
  {
   "cell_type": "code",
   "execution_count": 6,
   "id": "ebf7356e-5a5c-4e26-8b32-ce3524a4b3e5",
   "metadata": {},
   "outputs": [],
   "source": [
    "X_train_faces, y_train = load_and_detect_faces(train_folder_path)\n",
    "X_train_features = extract_lbp_features(X_train_faces)\n",
    "X_test_faces, y_test = load_and_detect_faces(test_folder_path)\n",
    "X_test_features = extract_lbp_features(X_test_faces)"
   ]
  },
  {
   "cell_type": "code",
   "execution_count": 7,
   "id": "30816965-4142-4758-9959-ff1d11400306",
   "metadata": {},
   "outputs": [
    {
     "ename": "SyntaxError",
     "evalue": "'{' was never closed (1967556147.py, line 1)",
     "output_type": "error",
     "traceback": [
      "\u001b[1;36m  Cell \u001b[1;32mIn[7], line 1\u001b[1;36m\u001b[0m\n\u001b[1;33m    param_grid = {\u001b[0m\n\u001b[1;37m                 ^\u001b[0m\n\u001b[1;31mSyntaxError\u001b[0m\u001b[1;31m:\u001b[0m '{' was never closed\n"
     ]
    }
   ],
   "source": [
    "param_grid = {\n",
    "    'svc__C': [4, 4.5, 5, 6, 7, 8, 9, 10],  \n",
    "    'svc__gamma': ['scale'], \n",
    "    'svc__kernel': ['rbf']\n",
    "svm_pipeline = make_pipeline(StandardScaler(), SVC())\n",
    "grid_search = GridSearchCV(svm_pipeline, param_grid, refit=True, verbose=3, cv=10)\n",
    "grid_search.fit(X_train_features, y_train)\n",
    "print(\"Best Parameters:\", grid_search.best_params_)\n",
    "print(\"Best Accuracy:\", grid_search.best_score_)\n",
    "\n"
   ]
  },
  {
   "cell_type": "code",
   "execution_count": null,
   "id": "78cb14f5-a963-414f-9d6f-86b58a111e5f",
   "metadata": {},
   "outputs": [],
   "source": [
    "svm_classifier = make_pipeline(StandardScaler(), SVC(kernel='rbf', C=4.5, gamma='scale'))\n",
    "svm_classifier.fit(X_train_features, y_train)\n",
    "y_pred = svm_classifier.predict(X_test_features)\n",
    "svm_classifier.fit(X_train_features, y_train)"
   ]
  },
  {
   "cell_type": "code",
   "execution_count": null,
   "id": "f06cc2d4-bceb-4bbf-bb6b-2fef765534d2",
   "metadata": {},
   "outputs": [],
   "source": [
    "from sklearn.metrics import accuracy_score, confusion_matrix\n",
    "y_pred = svm_classifier.predict(X_test_features)\n",
    "accuracy = accuracy_score(y_test, y_pred)\n",
    "print(f\"Accuracy: {accuracy * 100:.2f}%\")\n",
    "print(classification_report(y_test, y_pred))\n",
    "conf_matrix = confusion_matrix(y_test, y_pred)\n",
    "print(len(y_test))\n",
    "print(conf_matrix)"
   ]
  },
  {
   "cell_type": "code",
   "execution_count": null,
   "id": "b65052d9-aac2-4b12-95dd-79d3239dcb36",
   "metadata": {},
   "outputs": [],
   "source": [
    "class_names = [\"Angry\", \"Fear\", \"Happy\", \"Neutral\", \"Sadness\", \"Surprise\"]\n",
    "conf_matrix = confusion_matrix(y_test, y_pred)\n",
    "conf_matrix_percent = conf_matrix / conf_matrix.sum(axis=1, keepdims=True) * 100\n",
    "plt.figure(figsize=(8, 8))\n",
    "ax = sns.heatmap(conf_matrix, annot=False, cmap=\"BuGn\", xticklabels=class_names, yticklabels=class_names, cbar=False)\n",
    "for i in range(conf_matrix.shape[0]):\n",
    "    for j in range(conf_matrix.shape[1]):\n",
    "        count = conf_matrix[i, j]\n",
    "        percent = conf_matrix_percent[i, j]\n",
    "        ax.text(j + 0.5, i + 0.5, f\"{count}\\n({percent:.1f}%)\", ha=\"center\", va=\"center\", color=\"black\", fontsize=10)\n",
    "\n",
    "plt.xlabel(\"Predicted Class\")\n",
    "plt.ylabel(\"True Class\")\n",
    "plt.title(\"SVM Database2\")\n",
    "plt.show()\n"
   ]
  },
  {
   "cell_type": "code",
   "execution_count": null,
   "id": "28025147-249c-40aa-8da2-eb59aa41650c",
   "metadata": {},
   "outputs": [],
   "source": [
    "from sklearn.neighbors import KNeighborsClassifier\n",
    "k_range = range(1, 25)\n",
    "best_knn_accuracy = 0\n",
    "best_k = 1\n",
    "\n",
    "for k in k_range:\n",
    "    knn_model = KNeighborsClassifier(n_neighbors=k)\n",
    "    knn_model.fit(X_train_features, y_train)\n",
    "    y_pred = knn_model.predict(X_test_features)\n",
    "    knn_accuracy = accuracy_score(y_test, y_pred)\n",
    "    if knn_accuracy > best_knn_accuracy:\n",
    "        best_knn_accuracy = knn_accuracy\n",
    "        best_k = k\n",
    "final_knn_model = KNeighborsClassifier(n_neighbors=best_k)\n",
    "final_knn_model.fit(X_train_features, y_train)\n",
    "y_pred = final_knn_model.predict(X_test_features)\n"
   ]
  },
  {
   "cell_type": "code",
   "execution_count": null,
   "id": "c0dbdf3b-09d0-4e96-b5fd-5222107e2ce2",
   "metadata": {},
   "outputs": [],
   "source": [
    "knn_accuracy = accuracy_score(y_test, knn_predictions)\n",
    "print(\"Best k:\", best_k)\n",
    "print(\"Accuracy:\", knn_accuracy)\n",
    "print(classification_report(y_test, knn_predictions))"
   ]
  },
  {
   "cell_type": "code",
   "execution_count": null,
   "id": "70935eb9-e57f-400f-997b-d764bb436212",
   "metadata": {},
   "outputs": [],
   "source": [
    "knn_predictions = final_knn_model.predict(X_test_features)\n",
    "conf_matrix_knn = confusion_matrix(y_test, knn_predictions)\n",
    "class_names = [\"Angry\", \"Fear\", \"Happy\", \"Neutral\", \"Sadness\", \"Surprise\"]\n",
    "conf_matrix_percent_knn = conf_matrix_knn / conf_matrix_knn.sum(axis=1, keepdims=True) * 100\n",
    "plt.figure(figsize=(8, 8))\n",
    "ax = sns.heatmap(conf_matrix_knn, annot=False, cmap=\"BuGn\", xticklabels=class_names, yticklabels=class_names, cbar=False)\n",
    "for i in range(conf_matrix_knn.shape[0]):\n",
    "    for j in range(conf_matrix_knn.shape[1]):\n",
    "        count = conf_matrix_knn[i, j]\n",
    "        percent = conf_matrix_percent_knn[i, j]\n",
    "        ax.text(j + 0.5, i + 0.5, f\"{count}\\n({percent:.1f}%)\", ha=\"center\", va=\"center\", color=\"black\", fontsize=10)\n",
    "plt.xlabel(\"Predicted Class\")\n",
    "plt.ylabel(\"True Class\")\n",
    "plt.title(\"KNN Database2\")\n",
    "plt.show()\n"
   ]
  },
  {
   "cell_type": "code",
   "execution_count": null,
   "id": "711ad382-a5b1-49f1-ab20-db254d6318c9",
   "metadata": {},
   "outputs": [],
   "source": []
  },
  {
   "cell_type": "code",
   "execution_count": null,
   "id": "499faa9a-7c74-4f64-8385-446c35e4bb2e",
   "metadata": {},
   "outputs": [],
   "source": []
  },
  {
   "cell_type": "code",
   "execution_count": null,
   "id": "d0189ede-07f2-4075-97c6-0ce783245edc",
   "metadata": {},
   "outputs": [],
   "source": []
  }
 ],
 "metadata": {
  "kernelspec": {
   "display_name": "Python 3 (ipykernel)",
   "language": "python",
   "name": "python3"
  },
  "language_info": {
   "codemirror_mode": {
    "name": "ipython",
    "version": 3
   },
   "file_extension": ".py",
   "mimetype": "text/x-python",
   "name": "python",
   "nbconvert_exporter": "python",
   "pygments_lexer": "ipython3",
   "version": "3.12.8"
  }
 },
 "nbformat": 4,
 "nbformat_minor": 5
}
